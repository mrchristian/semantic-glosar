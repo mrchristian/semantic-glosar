{
 "cells": [
  {
   "cell_type": "raw",
   "metadata": {
    "vscode": {
     "languageId": "raw"
    }
   },
   "source": [
    "---\n",
    "title: \"Semantic Glossary Demo\"\n",
    "jupyter: python3\n",
    "code-fold: true \n",
    "execute:\n",
    "  echo: false\n",
    "  output: asis \n",
    "---"
   ]
  },
  {
   "cell_type": "code",
   "execution_count": 17,
   "metadata": {},
   "outputs": [],
   "source": [
    "from datetime import datetime\n",
    "import sys\n",
    "import time\n",
    "from SPARQLWrapper import SPARQLWrapper, JSON\n",
    "import requests\n",
    "import html\n",
    "\n",
    "\n",
    "api_url = \"https://climatekg.semanticclimate.net/api.php\"\n",
    "\n",
    "def fetch_mediawiki_data(api_url, params):\n",
    "    try:\n",
    "        response = requests.get(api_url, params=params)\n",
    "        response.raise_for_status()  # Raise an exception for HTTP errors\n",
    "        data = response.json()\n",
    "        return data\n",
    "    except requests.exceptions.RequestException as e:\n",
    "        print(f\"Error fetching data from MediaWiki API: {e}\")\n",
    "        return None\n",
    "\n",
    "def extract_items(data):\n",
    "    items = []\n",
    "    results = data.get(\"query\", {}).get(\"results\", {})\n",
    "    \n",
    "    for item_id, item_data in results.items():\n",
    "       \n",
    "        subcats = item_data[\"printouts\"].get(\"subcategoryOf\", [None])\n",
    "        subcat = \"\"\n",
    "        if len(subcats) > 0: \n",
    "            subcat = subcats[0] \n",
    "        item = {\n",
    "            \"id\": item_id,\n",
    "            \"term\": item_data[\"printouts\"].get(\"term\", [None])[0],\n",
    "            \"definition\": item_data[\"printouts\"].get(\"definition\", [{}])[0].get(\"Text\", {}).get(\"item\", [None])[0],\n",
    "            \"subCategoryOf\": subcat\n",
    "        }\n",
    "        items.append(item)\n",
    "    \n",
    "    return items\n",
    "\n",
    "def generate_html_table(items):\n",
    "    html = '<table border=\"1\">'\n",
    "    # Header\n",
    "    html += '<tr>'\n",
    "    html += '<th>ID</th>'\n",
    "    html += '<th>Term</th>'\n",
    "    html += '<th>Definition</th>'\n",
    "    html += '<th>SubCategory Of</th>'\n",
    "    html += '</tr>'\n",
    "    \n",
    "    # Rows\n",
    "    for item in items:\n",
    "        html += '<tr>'\n",
    "        html += f'<td>{item[\"id\"]}</td>'\n",
    "        html += f'<td>{item[\"term\"]}</td>'\n",
    "        html += f'<td>{item[\"definition\"]}</td>'\n",
    "        html += f'<td>{item[\"subCategoryOf\"]}</td>'\n",
    "        html += '</tr>'\n",
    "    \n",
    "    html += '</table>'\n",
    "    return html\n",
    "\n",
    "\n",
    "\n",
    "def get_glossary():\n",
    "    params = {\n",
    "        'action': 'ask',\n",
    "        'query': '[[Item:+]] [[has subobject::+]] [[P1::Term]] |?Wikibase description=definition |?P3=term |?P10.P3=subcategoryOf',\n",
    "        'format': 'json'\n",
    "    }\n",
    "\n",
    "    response = fetch_mediawiki_data(api_url, params)\n",
    "    items = extract_items(response)\n",
    "    if items:\n",
    "        # Generate the HTML for the table\n",
    "        html_table = generate_html_table(items)\n",
    "        print(html_table)\n",
    "\n",
    "\n",
    "\n"
   ]
  },
  {
   "cell_type": "code",
   "execution_count": 18,
   "metadata": {},
   "outputs": [
    {
     "name": "stdout",
     "output_type": "stream",
     "text": [
      "<table border=\"1\"><tr><th>ID</th><th>Term</th><th>Definition</th><th>SubCategory Of</th></tr><tr><td>Item:Q10</td><td>more likely than not</td><td>>50–100% probability (Indicates the assessed likelihood of an outcome or a result)</td><td>qualifiers</td></tr><tr><td>Item:Q100</td><td>biochemical oxygen demand</td><td>The amount of oxygen required to decompose organic material in water, an indicator of water quality.</td><td>terms</td></tr><tr><td>Item:Q1000</td><td>AQ</td><td>air quality</td><td>acronyms</td></tr><tr><td>Item:Q1001</td><td>AR4</td><td>Fourth Assessment Report of the Intergovernmental Panel on Climate Change</td><td>acronyms</td></tr><tr><td>Item:Q1002</td><td>AR5</td><td>Fifth Assessment Report of the Intergovernmental Panel on Climate Change</td><td>acronyms</td></tr><tr><td>Item:Q1003</td><td>AR6</td><td>Sixth Assessment Report of the Intergovernmental Panel on Climate Change</td><td>acronyms</td></tr><tr><td>Item:Q1004</td><td>AR7</td><td>Seventh Assessment Cycle of the Intergovernmental Panel on Climate Change</td><td>acronyms</td></tr><tr><td>Item:Q1005</td><td>ARA</td><td>Arab Region of Asia</td><td>acronyms</td></tr><tr><td>Item:Q1006</td><td>ARC</td><td>African Risk Capacity</td><td>acronyms</td></tr><tr><td>Item:Q1007</td><td>ARO</td><td>Arctic Ocean</td><td>acronyms</td></tr><tr><td>Item:Q1008</td><td>ARP</td><td>Arabian Peninsula</td><td>acronyms</td></tr><tr><td>Item:Q1009</td><td>ARPA-E</td><td>Advanced Research Projects Agency-Energy</td><td>acronyms</td></tr><tr><td>Item:Q101</td><td>biodiversity</td><td>The variety of life forms within an ecosystem, encompassing genetic, species, and ecosystem diversity.</td><td></td></tr><tr><td>Item:Q1010</td><td>ARS</td><td>Arabian Sea</td><td>acronyms</td></tr><tr><td>Item:Q1011</td><td>Art.</td><td>Article (e.g., of the UNFCCC),</td><td>acronyms</td></tr><tr><td>Item:Q1012</td><td>ASAP</td><td>Adaptation for Smallholder Agriculture Programme</td><td>acronyms</td></tr><tr><td>Item:Q1013</td><td>ASBEC</td><td>Australian Sustainable Built Environment Council</td><td>acronyms</td></tr><tr><td>Item:Q1014</td><td>ASCM</td><td>Agreement on Subsidies and Countervailing Measures</td><td>acronyms</td></tr><tr><td>Item:Q1015</td><td>ASE</td><td>Amundsen Sea Embayment</td><td>acronyms</td></tr><tr><td>Item:Q1016</td><td>ASEAN</td><td>Association of Southeast Asian Nations</td><td>acronyms</td></tr><tr><td>Item:Q1017</td><td>ASFI</td><td>Australian Sustainable Finance Initiative</td><td>acronyms</td></tr><tr><td>Item:Q1018</td><td>ASI</td><td>Avoid-Shift-Improve</td><td>acronyms</td></tr><tr><td>Item:Q1019</td><td>ASK</td><td>available seat kilometres</td><td>acronyms</td></tr><tr><td>Item:Q102</td><td>biodiversity hotspots</td><td>Regions with exceptionally high levels of biodiversity that are under threat from human activities.</td><td></td></tr><tr><td>Item:Q1020</td><td>ASP</td><td>Adaptive Social Protection</td><td>acronyms</td></tr><tr><td>Item:Q1021</td><td>ATLAS</td><td>Adaptation Thought Leadership and Assessments</td><td>acronyms</td></tr><tr><td>Item:Q1022</td><td>AUC</td><td>Area under the Curve</td><td>acronyms</td></tr><tr><td>Item:Q1023</td><td>AUM</td><td>assets under management</td><td>acronyms</td></tr><tr><td>Item:Q1024</td><td>AUP</td><td>Auckland Unitary Plan</td><td>acronyms</td></tr><tr><td>Item:Q1025</td><td>AUS</td><td>Australasia</td><td>acronyms</td></tr><tr><td>Item:Q1026</td><td>AusMCM</td><td>Australian–Maritime Continent monsoon</td><td>acronyms</td></tr><tr><td>Item:Q1027</td><td>AVHRR</td><td>Advanced Very High Resolution Radiometer</td><td>acronyms</td></tr><tr><td>Item:Q1028</td><td>AZM</td><td>Atlantic Zonal Modes</td><td>acronyms</td></tr><tr><td>Item:Q1029</td><td>BAT</td><td>best available technology</td><td>acronyms</td></tr><tr><td>Item:Q103</td><td>bioenergy</td><td>Energy derived from biological sources, such as plants, which can be used as a renewable fuel.</td><td></td></tr><tr><td>Item:Q1030</td><td>BAU</td><td>Business-as-Usual</td><td>acronyms</td></tr><tr><td>Item:Q1031</td><td>BC</td><td>black carbon</td><td>acronyms</td></tr><tr><td>Item:Q1032</td><td>BCA</td><td>border carbon adjustment</td><td>acronyms</td></tr><tr><td>Item:Q1033</td><td>BCE</td><td>Before the Common Era</td><td>acronyms</td></tr><tr><td>Item:Q1034</td><td>BCP</td><td>biological carbon pump</td><td>acronyms</td></tr><tr><td>Item:Q1035</td><td>BDP</td><td>The Bangladesh Delta Plan</td><td>acronyms</td></tr><tr><td>Item:Q1036</td><td>BECCS</td><td>Bioenergy with Carbon Dioxide Capture and Storage</td><td>acronyms</td></tr><tr><td>Item:Q1037</td><td>BEES</td><td>building energy efficiency standards</td><td>acronyms</td></tr><tr><td>Item:Q1038</td><td>BEMS</td><td>building energy management systems</td><td>acronyms</td></tr><tr><td>Item:Q1039</td><td>BEV</td><td>battery electric vehicle</td><td>acronyms</td></tr><tr><td>Item:Q104</td><td>bioenergy with carbon dioxide capture and storage</td><td>A technology that combines bioenergy production with the capture and storage of carbon dioxide emissions.</td><td></td></tr><tr><td>Item:Q1040</td><td>BF-BOF</td><td>blast furnace-basic oxygen furnace</td><td>acronyms</td></tr><tr><td>Item:Q1041</td><td>BFV</td><td>Barmah Forest Virus</td><td>acronyms</td></tr><tr><td>Item:Q1042</td><td>BIM</td><td>Building Information Modelling</td><td>acronyms</td></tr><tr><td>Item:Q1043</td><td>BIPV</td><td>building-integrated photovoltaic</td><td>acronyms</td></tr></table>\n"
     ]
    }
   ],
   "source": [
    "get_glossary()"
   ]
  }
 ],
 "metadata": {
  "kernelspec": {
   "display_name": "Python 3",
   "language": "python",
   "name": "python3"
  },
  "language_info": {
   "codemirror_mode": {
    "name": "ipython",
    "version": 3
   },
   "file_extension": ".py",
   "mimetype": "text/x-python",
   "name": "python",
   "nbconvert_exporter": "python",
   "pygments_lexer": "ipython3",
   "version": "3.10.13"
  }
 },
 "nbformat": 4,
 "nbformat_minor": 2
}
